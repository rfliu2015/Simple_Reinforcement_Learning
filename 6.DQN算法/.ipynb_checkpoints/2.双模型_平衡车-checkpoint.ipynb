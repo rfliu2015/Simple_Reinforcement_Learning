{
 "cells": [
  {
   "cell_type": "code",
   "execution_count": 5,
   "metadata": {
    "pycharm": {
     "name": "#%%\n"
    }
   },
   "outputs": [
    {
     "data": {
      "image/png": "[encoded data removed]",
      "text/plain": [
       "<Figure size 640x480 with 1 Axes>"
      ]
     },
     "metadata": {},
     "output_type": "display_data"
    }
   ],
   "source": [
    "import gym\n",
    "from matplotlib import pyplot as plt\n",
    "%matplotlib inline\n",
    "\n",
    "#创建环境\n",
    "env = gym.make('CartPole-v1', render_mode='rgb_array')\n",
    "env.reset()\n",
    "\n",
    "\n",
    "#打印游戏\n",
    "def show():\n",
    "    plt.imshow(env.render())\n",
    "    plt.show()\n",
    "\n",
    "\n",
    "show()"
   ]
  },
  {
   "cell_type": "code",
   "execution_count": 6,
   "metadata": {
    "pycharm": {
     "name": "#%%\n"
    },
    "scrolled": false
   },
   "outputs": [
    {
     "name": "stdout",
     "output_type": "stream",
     "text": [
      "这个游戏的状态用4个数字表示,我也不知道这4个数字分别是什么意思,反正这4个数字就能描述游戏全部的状态\n",
      "state= (array([0.00113412, 0.01716691, 0.01086078, 0.0246396 ], dtype=float32), {})\n",
      "这个游戏一共有2个动作,不是0就是1\n",
      "env.action_space= Discrete(2)\n",
      "随机一个动作\n",
      "action= 0\n",
      "执行一个动作,得到下一个状态,奖励,是否结束\n",
      "state= [ 0.00147746 -0.1781091   0.01135357  0.32072935]\n",
      "reward= 1.0\n",
      "over= False\n"
     ]
    }
   ],
   "source": [
    "#测试游戏环境\n",
    "def test_env():\n",
    "    state = env.reset()\n",
    "    print('这个游戏的状态用4个数字表示,我也不知道这4个数字分别是什么意思,反正这4个数字就能描述游戏全部的状态')\n",
    "    print('state=', state)\n",
    "    #state= [ 0.03490619  0.04873464  0.04908862 -0.00375859]\n",
    "\n",
    "    print('这个游戏一共有2个动作,不是0就是1')\n",
    "    print('env.action_space=', env.action_space)\n",
    "    #env.action_space= Discrete(2)\n",
    "\n",
    "    print('随机一个动作')\n",
    "    action = env.action_space.sample()\n",
    "    print('action=', action)\n",
    "    #action= 1\n",
    "\n",
    "    print('执行一个动作,得到下一个状态,奖励,是否结束')\n",
    "    state, reward, terminated, truncated, _  = env.step(action)\n",
    "\n",
    "    print('state=', state)\n",
    "    #state= [ 0.02018229 -0.16441101  0.01547085  0.2661691 ]\n",
    "\n",
    "    print('reward=', reward)\n",
    "    #reward= 1.0\n",
    "\n",
    "    print('over=', terminated)\n",
    "    #over= False\n",
    "\n",
    "\n",
    "test_env()"
   ]
  },
  {
   "cell_type": "markdown",
   "metadata": {},
   "source": [
    "如下使用到了 `torch.nn.Sequential` 这个类，它的作用是让输入依次经历不同的神经网络层。\n",
    "以下的两个 model 在结构和参数上都是一样的。"
   ]
  },
  {
   "cell_type": "code",
   "execution_count": 7,
   "metadata": {
    "pycharm": {
     "name": "#%%\n"
    }
   },
   "outputs": [
    {
     "data": {
      "text/plain": [
       "(Sequential(\n",
       "   (0): Linear(in_features=4, out_features=128, bias=True)\n",
       "   (1): ReLU()\n",
       "   (2): Linear(in_features=128, out_features=2, bias=True)\n",
       " ),\n",
       " Sequential(\n",
       "   (0): Linear(in_features=4, out_features=128, bias=True)\n",
       "   (1): ReLU()\n",
       "   (2): Linear(in_features=128, out_features=2, bias=True)\n",
       " ))"
      ]
     },
     "execution_count": 7,
     "metadata": {},
     "output_type": "execute_result"
    }
   ],
   "source": [
    "import torch\n",
    "\n",
    "#计算动作的模型,也是真正要用的模型\n",
    "model = torch.nn.Sequential(\n",
    "    torch.nn.Linear(4, 128),\n",
    "    torch.nn.ReLU(),\n",
    "    torch.nn.Linear(128, 2),\n",
    ")\n",
    "\n",
    "#经验网络,用于评估一个状态的分数\n",
    "next_model = torch.nn.Sequential(\n",
    "    torch.nn.Linear(4, 128),\n",
    "    torch.nn.ReLU(),\n",
    "    torch.nn.Linear(128, 2),\n",
    ")\n",
    "\n",
    "#把model的参数复制给next_model\n",
    "next_model.load_state_dict(model.state_dict())\n",
    "\n",
    "model, next_model"
   ]
  },
  {
   "cell_type": "markdown",
   "metadata": {},
   "source": [
    "在如下的 `get_action` 函数中，之前 QLearning 的时候，获得动作用的是 `Q[row, col].argmax()`, 这里改成了用 `model(state).argmax().item()` 。其中原来的 `(row, col)` 起到的也是 `state` 的作用。"
   ]
  },
  {
   "cell_type": "code",
   "execution_count": 8,
   "metadata": {
    "pycharm": {
     "name": "#%%\n"
    }
   },
   "outputs": [
    {
     "data": {
      "text/plain": [
       "1"
      ]
     },
     "execution_count": 8,
     "metadata": {},
     "output_type": "execute_result"
    }
   ],
   "source": [
    "import random\n",
    "\n",
    "\n",
    "#得到一个动作\n",
    "def get_action(state):\n",
    "    if random.random() < 0.01:\n",
    "        return random.choice([0, 1])\n",
    "\n",
    "    #走神经网络,得到一个动作\n",
    "    state = torch.FloatTensor(state).reshape(1, 4)\n",
    "\n",
    "    return model(state).argmax().item()\n",
    "\n",
    "\n",
    "get_action([0.0013847, -0.01194451, 0.04260966, 0.00688801])"
   ]
  },
  {
   "cell_type": "markdown",
   "metadata": {},
   "source": [
    "如下的 `update_data` 方法中，起到的是『收集轨迹』的作用: 玩若干轮游戏，收集 N 条轨迹，其中这些轨迹包含的转换数量要多于 `200` 条。\n",
    "> 另外，原来的代码中有一处错误: `env.reset()` 的返回值是 `(state, dict)` 的类型。解包的时候不要忘了第二个返回值。"
   ]
  },
  {
   "cell_type": "code",
   "execution_count": 15,
   "metadata": {
    "pycharm": {
     "name": "#%%\n"
    }
   },
   "outputs": [
    {
     "data": {
      "text/plain": [
       "((206, 0), 206)"
      ]
     },
     "execution_count": 15,
     "metadata": {},
     "output_type": "execute_result"
    }
   ],
   "source": [
    "#样本池\n",
    "datas = []\n",
    "\n",
    "\n",
    "#向样本池中添加N条数据,删除M条最古老的数据\n",
    "def update_data():\n",
    "    old_count = len(datas)\n",
    "\n",
    "    #玩到新增了N个数据为止\n",
    "    while len(datas) - old_count < 200:\n",
    "        #初始化游戏\n",
    "        state, *_ = env.reset()\n",
    "\n",
    "        #玩到游戏结束为止\n",
    "        over, truncated = False, False\n",
    "        while not over and not truncated:\n",
    "            #根据当前状态得到一个动作\n",
    "            action = get_action(state)\n",
    "\n",
    "            #执行动作,得到反馈\n",
    "            next_state, reward, over, truncated, _ = env.step(action)\n",
    "\n",
    "            #记录数据样本\n",
    "            datas.append((state, action, reward, next_state, over))\n",
    "\n",
    "            #更新游戏状态,开始下一个动作\n",
    "            state = next_state\n",
    "\n",
    "    update_count = lenb(datas) - old_count\n",
    "    drop_count = max(len(datas) - 10000, 0)\n",
    "\n",
    "    #数据上限,超出时从最古老的开始删除\n",
    "    while len(datas) > 10000:\n",
    "        datas.pop(0)\n",
    "\n",
    "    return update_count, drop_count\n",
    "\n",
    "\n",
    "update_data(), len(datas)"
   ]
  },
  {
   "cell_type": "markdown",
   "metadata": {},
   "source": [
    "下面的 `get_sample` ，随即从之前收集的 `datas` 中获得部分的样本，并且『按列切割』成不同的向量，分别表示 state, action, reward, next_state 等。"
   ]
  },
  {
   "cell_type": "code",
   "execution_count": 17,
   "metadata": {
    "pycharm": {
     "name": "#%%\n"
    },
    "scrolled": true
   },
   "outputs": [
    {
     "data": {
      "text/plain": [
       "(tensor([[ 4.8495e-02, -2.7199e-02,  1.6256e-02, -4.6721e-02],\n",
       "         [ 2.2518e-02,  3.7523e-02, -1.1585e-02, -2.8526e-02],\n",
       "         [ 4.7951e-02,  1.6769e-01,  1.5322e-02, -3.3423e-01],\n",
       "         [ 9.3128e-02,  1.7671e+00, -1.6096e-01, -2.6543e+00],\n",
       "         [ 2.2233e-02,  3.5819e-01,  3.9030e-02, -5.6437e-01],\n",
       "         [ 4.6855e-03,  6.0845e-01, -1.7463e-02, -8.5000e-01],\n",
       "         [ 1.2367e-01,  1.5291e+00, -1.1472e-01, -2.3335e+00],\n",
       "         [ 8.6205e-02,  9.5031e-01, -8.8486e-02, -1.5129e+00],\n",
       "         [ 2.1886e-02,  7.6090e-01, -7.2009e-02, -1.2410e+00],\n",
       "         [ 1.0988e-01,  1.3236e+00, -1.1596e-01, -2.0580e+00],\n",
       "         [ 1.4935e-01,  1.7589e+00, -1.5851e-01, -2.6569e+00],\n",
       "         [ 2.2085e-02,  2.2421e-02, -3.3952e-04,  3.9290e-02],\n",
       "         [ 1.6676e-01,  1.3932e+00, -2.0814e-01, -2.1548e+00],\n",
       "         [ 3.2176e-02,  3.6885e-01, -9.6235e-04, -5.4430e-01],\n",
       "         [-7.9415e-03,  2.1811e-01, -1.1106e-03, -2.6229e-01],\n",
       "         [-1.0637e-02,  6.2190e-01, -5.4937e-02, -9.0639e-01],\n",
       "         [ 1.0889e-01,  1.3549e+00, -1.4750e-01, -2.1953e+00],\n",
       "         [-3.5892e-02,  4.1931e-01,  1.6634e-03, -5.8824e-01],\n",
       "         [ 6.3359e-02,  9.9871e-01, -5.5102e-02, -1.4404e+00],\n",
       "         [ 1.1809e-01,  1.5629e+00, -1.1187e-01, -2.3320e+00],\n",
       "         [ 3.7477e-02,  1.1683e+00, -1.2389e-01, -1.8244e+00],\n",
       "         [ 8.5714e-02,  1.1587e+00, -1.1009e-01, -1.8706e+00],\n",
       "         [ 8.3333e-02,  1.1945e+00, -8.3909e-02, -1.7497e+00],\n",
       "         [-3.5794e-03,  4.1324e-01, -6.3563e-03, -5.5532e-01],\n",
       "         [ 4.7295e-02,  8.0318e-01, -3.2348e-02, -1.1377e+00],\n",
       "         [ 1.1537e-01,  1.5988e+00, -1.2412e-01, -2.3243e+00],\n",
       "         [ 2.6885e-02,  4.1266e-01, -4.6237e-03, -5.4604e-01],\n",
       "         [ 2.8700e-02,  1.7378e-01,  4.0958e-03, -2.5291e-01],\n",
       "         [ 5.1887e-02,  1.3809e+00, -1.2292e-01, -2.1365e+00],\n",
       "         [ 3.1950e-03,  3.6943e-01, -4.0835e-02, -6.2674e-01],\n",
       "         [ 1.2660e-01,  1.3397e+00, -1.1251e-01, -2.1275e+00],\n",
       "         [ 2.5097e-03,  7.7621e-01, -7.0010e-02, -1.1902e+00],\n",
       "         [ 8.6212e-03,  1.9782e-01,  4.7881e-02, -2.9104e-01],\n",
       "         [-2.4877e-02,  7.8952e-01,  1.0810e-02, -1.1237e+00],\n",
       "         [ 1.3599e-01,  1.5511e+00, -1.9141e-01, -2.5296e+00],\n",
       "         [ 3.9553e-02,  5.6398e-01, -1.1848e-02, -8.3728e-01],\n",
       "         [ 1.8411e-01,  1.3422e+00, -2.0411e-01, -2.2113e+00],\n",
       "         [ 1.4195e-02,  4.0131e-01, -1.2055e-02, -5.7024e-01],\n",
       "         [ 9.9258e-03,  7.8628e-01, -4.6873e-02, -1.1514e+00],\n",
       "         [ 2.3269e-02,  2.3281e-01, -1.2155e-02, -3.2484e-01],\n",
       "         [ 6.9747e-02,  1.1835e+00, -9.3564e-02, -1.7839e+00],\n",
       "         [ 3.6219e-02,  3.4594e-01, -2.3832e-03, -5.4049e-01],\n",
       "         [ 6.6458e-02,  9.6276e-01, -7.9001e-02, -1.5543e+00],\n",
       "         [-7.1519e-03,  3.9991e-01,  1.1535e-02, -5.9711e-01],\n",
       "         [ 9.7596e-04,  1.0051e+00, -5.1234e-02, -1.4775e+00],\n",
       "         [ 4.9329e-02,  1.6758e-01, -2.9013e-02, -2.8869e-01],\n",
       "         [ 1.0722e-01,  1.3904e+00, -1.1890e-01, -2.0673e+00],\n",
       "         [ 3.4153e-02,  7.9203e-01, -4.0794e-02, -1.1667e+00],\n",
       "         [ 4.2933e-02,  1.0118e+00, -2.2013e-02, -1.3995e+00],\n",
       "         [ 1.3503e-01,  1.5865e+00, -1.6025e-01, -2.3943e+00],\n",
       "         [ 2.9126e-02, -2.1291e-02,  3.3214e-03,  3.8723e-02],\n",
       "         [ 5.1119e-02,  7.6698e-01, -5.4097e-02, -1.2452e+00],\n",
       "         [ 5.6241e-02,  1.1530e+00, -1.2793e-01, -1.8766e+00],\n",
       "         [ 1.8012e-03,  8.1772e-01, -7.3065e-02, -1.2158e+00],\n",
       "         [ 1.3068e-01,  1.3909e+00, -1.5676e-01, -2.1918e+00],\n",
       "         [-2.7497e-02,  4.0318e-01, -1.7754e-03, -6.1559e-01],\n",
       "         [ 3.2931e-02,  9.9937e-01, -5.7425e-02, -1.4514e+00],\n",
       "         [ 5.8557e-02,  5.5759e-01, -3.8040e-03, -9.1199e-01],\n",
       "         [ 4.8956e-02,  8.1901e-01, -4.9475e-02, -1.2221e+00],\n",
       "         [ 1.5425e-01,  1.7250e+00, -1.6139e-01, -2.6592e+00],\n",
       "         [ 6.5337e-02,  1.0147e+00, -7.3918e-02, -1.5299e+00],\n",
       "         [ 1.3086e-01,  1.3793e+00, -1.9725e-01, -2.1768e+00],\n",
       "         [-1.1457e-02,  1.0190e-02,  1.8200e-02, -2.3191e-02],\n",
       "         [ 5.2918e-02,  1.1951e+00, -8.6453e-02, -1.7615e+00]]),\n",
       " tensor([[1],\n",
       "         [1],\n",
       "         [1],\n",
       "         [0],\n",
       "         [1],\n",
       "         [1],\n",
       "         [1],\n",
       "         [1],\n",
       "         [1],\n",
       "         [1],\n",
       "         [0],\n",
       "         [1],\n",
       "         [1],\n",
       "         [1],\n",
       "         [1],\n",
       "         [1],\n",
       "         [1],\n",
       "         [1],\n",
       "         [1],\n",
       "         [1],\n",
       "         [1],\n",
       "         [1],\n",
       "         [1],\n",
       "         [1],\n",
       "         [1],\n",
       "         [0],\n",
       "         [1],\n",
       "         [1],\n",
       "         [1],\n",
       "         [1],\n",
       "         [1],\n",
       "         [1],\n",
       "         [1],\n",
       "         [1],\n",
       "         [0],\n",
       "         [1],\n",
       "         [1],\n",
       "         [1],\n",
       "         [1],\n",
       "         [1],\n",
       "         [1],\n",
       "         [1],\n",
       "         [1],\n",
       "         [1],\n",
       "         [1],\n",
       "         [1],\n",
       "         [1],\n",
       "         [1],\n",
       "         [1],\n",
       "         [0],\n",
       "         [1],\n",
       "         [1],\n",
       "         [1],\n",
       "         [1],\n",
       "         [1],\n",
       "         [1],\n",
       "         [1],\n",
       "         [1],\n",
       "         [1],\n",
       "         [0],\n",
       "         [1],\n",
       "         [1],\n",
       "         [1],\n",
       "         [1]]),\n",
       " tensor([[1.],\n",
       "         [1.],\n",
       "         [1.],\n",
       "         [1.],\n",
       "         [1.],\n",
       "         [1.],\n",
       "         [1.],\n",
       "         [1.],\n",
       "         [1.],\n",
       "         [1.],\n",
       "         [1.],\n",
       "         [1.],\n",
       "         [1.],\n",
       "         [1.],\n",
       "         [1.],\n",
       "         [1.],\n",
       "         [1.],\n",
       "         [1.],\n",
       "         [1.],\n",
       "         [1.],\n",
       "         [1.],\n",
       "         [1.],\n",
       "         [1.],\n",
       "         [1.],\n",
       "         [1.],\n",
       "         [1.],\n",
       "         [1.],\n",
       "         [1.],\n",
       "         [1.],\n",
       "         [1.],\n",
       "         [1.],\n",
       "         [1.],\n",
       "         [1.],\n",
       "         [1.],\n",
       "         [1.],\n",
       "         [1.],\n",
       "         [1.],\n",
       "         [1.],\n",
       "         [1.],\n",
       "         [1.],\n",
       "         [1.],\n",
       "         [1.],\n",
       "         [1.],\n",
       "         [1.],\n",
       "         [1.],\n",
       "         [1.],\n",
       "         [1.],\n",
       "         [1.],\n",
       "         [1.],\n",
       "         [1.],\n",
       "         [1.],\n",
       "         [1.],\n",
       "         [1.],\n",
       "         [1.],\n",
       "         [1.],\n",
       "         [1.],\n",
       "         [1.],\n",
       "         [1.],\n",
       "         [1.],\n",
       "         [1.],\n",
       "         [1.],\n",
       "         [1.],\n",
       "         [1.],\n",
       "         [1.]]),\n",
       " tensor([[ 4.7951e-02,  1.6769e-01,  1.5322e-02, -3.3423e-01],\n",
       "         [ 2.3269e-02,  2.3281e-01, -1.2155e-02, -3.2484e-01],\n",
       "         [ 5.1305e-02,  3.6259e-01,  8.6369e-03, -6.2204e-01],\n",
       "         [ 1.2847e-01,  1.5735e+00, -2.1405e-01, -2.4148e+00],\n",
       "         [ 2.9397e-02,  5.5274e-01,  2.7742e-02, -8.4451e-01],\n",
       "         [ 1.6855e-02,  8.0381e-01, -3.4463e-02, -1.1481e+00],\n",
       "         [ 1.5425e-01,  1.7250e+00, -1.6139e-01, -2.6592e+00],\n",
       "         [ 1.0521e-01,  1.1464e+00, -1.1875e-01, -1.8319e+00],\n",
       "         [ 3.7103e-02,  9.5686e-01, -9.6829e-02, -1.5553e+00],\n",
       "         [ 1.3635e-01,  1.5197e+00, -1.5712e-01, -2.3842e+00],\n",
       "         [ 1.8452e-01,  1.5652e+00, -2.1165e-01, -2.4165e+00],\n",
       "         [ 2.2534e-02,  2.1755e-01,  4.4628e-04, -2.5350e-01],\n",
       "         [ 1.9462e-01,  1.5896e+00, -2.5123e-01, -2.5039e+00],\n",
       "         [ 3.9553e-02,  5.6398e-01, -1.1848e-02, -8.3728e-01],\n",
       "         [-3.5794e-03,  4.1324e-01, -6.3563e-03, -5.5532e-01],\n",
       "         [ 1.8012e-03,  8.1772e-01, -7.3065e-02, -1.2158e+00],\n",
       "         [ 1.3599e-01,  1.5511e+00, -1.9141e-01, -2.5296e+00],\n",
       "         [-2.7506e-02,  6.1441e-01, -1.0101e-02, -8.8040e-01],\n",
       "         [ 8.3333e-02,  1.1945e+00, -8.3909e-02, -1.7497e+00],\n",
       "         [ 1.4935e-01,  1.7589e+00, -1.5851e-01, -2.6569e+00],\n",
       "         [ 6.0843e-02,  1.3646e+00, -1.6038e-01, -2.1529e+00],\n",
       "         [ 1.0889e-01,  1.3549e+00, -1.4750e-01, -2.1953e+00],\n",
       "         [ 1.0722e-01,  1.3904e+00, -1.1890e-01, -2.0673e+00],\n",
       "         [ 4.6855e-03,  6.0845e-01, -1.7463e-02, -8.5000e-01],\n",
       "         [ 6.3359e-02,  9.9871e-01, -5.5102e-02, -1.4404e+00],\n",
       "         [ 1.4735e-01,  1.4050e+00, -1.7060e-01, -2.0722e+00],\n",
       "         [ 3.5138e-02,  6.0785e-01, -1.5545e-02, -8.4018e-01],\n",
       "         [ 3.2176e-02,  3.6885e-01, -9.6235e-04, -5.4430e-01],\n",
       "         [ 7.9505e-02,  1.5770e+00, -1.6565e-01, -2.4645e+00],\n",
       "         [ 1.0584e-02,  5.6510e-01, -5.3369e-02, -9.3200e-01],\n",
       "         [ 1.5340e-01,  1.5357e+00, -1.5506e-01, -2.4527e+00],\n",
       "         [ 1.8034e-02,  9.7217e-01, -9.3813e-02, -1.5040e+00],\n",
       "         [ 1.2578e-02,  3.9223e-01,  4.2060e-02, -5.6825e-01],\n",
       "         [-9.0865e-03,  9.8450e-01, -1.1663e-02, -1.4129e+00],\n",
       "         [ 1.6701e-01,  1.3580e+00, -2.4200e-01, -2.3012e+00],\n",
       "         [ 5.0833e-02,  7.5926e-01, -2.8594e-02, -1.1337e+00],\n",
       "         [ 2.1096e-01,  1.5386e+00, -2.4834e-01, -2.5594e+00],\n",
       "         [ 2.2221e-02,  5.9660e-01, -2.3460e-02, -8.6670e-01],\n",
       "         [ 2.5651e-02,  9.8198e-01, -6.9900e-02, -1.4584e+00],\n",
       "         [ 2.7925e-02,  4.2810e-01, -1.8652e-02, -6.2133e-01],\n",
       "         [ 9.3417e-02,  1.3795e+00, -1.2924e-01, -2.1041e+00],\n",
       "         [ 4.3138e-02,  5.4110e-01, -1.3193e-02, -8.3392e-01],\n",
       "         [ 8.5714e-02,  1.1587e+00, -1.1009e-01, -1.8706e+00],\n",
       "         [ 8.4636e-04,  5.9487e-01, -4.0744e-04, -8.8614e-01],\n",
       "         [ 2.1079e-02,  1.2008e+00, -8.0784e-02, -1.7857e+00],\n",
       "         [ 5.2680e-02,  3.6310e-01, -3.4787e-02, -5.9038e-01],\n",
       "         [ 1.3503e-01,  1.5865e+00, -1.6025e-01, -2.3943e+00],\n",
       "         [ 4.9993e-02,  9.8766e-01, -6.4127e-02, -1.4719e+00],\n",
       "         [ 6.3169e-02,  1.2072e+00, -5.0003e-02, -1.6990e+00],\n",
       "         [ 1.6676e-01,  1.3932e+00, -2.0814e-01, -2.1548e+00],\n",
       "         [ 2.8700e-02,  1.7378e-01,  4.0958e-03, -2.5291e-01],\n",
       "         [ 6.6458e-02,  9.6276e-01, -7.9001e-02, -1.5543e+00],\n",
       "         [ 7.9301e-02,  1.3493e+00, -1.6547e-01, -2.2061e+00],\n",
       "         [ 1.8156e-02,  1.0137e+00, -9.7382e-02, -1.5305e+00],\n",
       "         [ 1.5850e-01,  1.5872e+00, -2.0060e-01, -2.5285e+00],\n",
       "         [-1.9434e-02,  5.9832e-01, -1.4087e-02, -9.0883e-01],\n",
       "         [ 5.2918e-02,  1.1951e+00, -8.6453e-02, -1.7615e+00],\n",
       "         [ 6.9709e-02,  7.5276e-01, -2.2044e-02, -1.2059e+00],\n",
       "         [ 6.5337e-02,  1.0147e+00, -7.3918e-02, -1.5299e+00],\n",
       "         [ 1.8875e-01,  1.5315e+00, -2.1458e-01, -2.4198e+00],\n",
       "         [ 8.5631e-02,  1.2107e+00, -1.0452e-01, -1.8447e+00],\n",
       "         [ 1.5845e-01,  1.5757e+00, -2.4078e-01, -2.5234e+00],\n",
       "         [-1.1253e-02,  2.0505e-01,  1.7736e-02, -3.1008e-01],\n",
       "         [ 7.6821e-02,  1.3911e+00, -1.2168e-01, -2.0797e+00]]),\n",
       " tensor([[0],\n",
       "         [0],\n",
       "         [0],\n",
       "         [1],\n",
       "         [0],\n",
       "         [0],\n",
       "         [0],\n",
       "         [0],\n",
       "         [0],\n",
       "         [0],\n",
       "         [1],\n",
       "         [0],\n",
       "         [1],\n",
       "         [0],\n",
       "         [0],\n",
       "         [0],\n",
       "         [0],\n",
       "         [0],\n",
       "         [0],\n",
       "         [0],\n",
       "         [0],\n",
       "         [0],\n",
       "         [0],\n",
       "         [0],\n",
       "         [0],\n",
       "         [0],\n",
       "         [0],\n",
       "         [0],\n",
       "         [0],\n",
       "         [0],\n",
       "         [0],\n",
       "         [0],\n",
       "         [0],\n",
       "         [0],\n",
       "         [1],\n",
       "         [0],\n",
       "         [1],\n",
       "         [0],\n",
       "         [0],\n",
       "         [0],\n",
       "         [0],\n",
       "         [0],\n",
       "         [0],\n",
       "         [0],\n",
       "         [0],\n",
       "         [0],\n",
       "         [0],\n",
       "         [0],\n",
       "         [0],\n",
       "         [0],\n",
       "         [0],\n",
       "         [0],\n",
       "         [0],\n",
       "         [0],\n",
       "         [0],\n",
       "         [0],\n",
       "         [0],\n",
       "         [0],\n",
       "         [0],\n",
       "         [1],\n",
       "         [0],\n",
       "         [1],\n",
       "         [0],\n",
       "         [0]]))"
      ]
     },
     "execution_count": 17,
     "metadata": {},
     "output_type": "execute_result"
    }
   ],
   "source": [
    "#获取一批数据样本\n",
    "def get_sample():\n",
    "    #从样本池中采样\n",
    "    samples = random.sample(datas, 64)\n",
    "\n",
    "    #[b, 4]\n",
    "    state = torch.FloatTensor([i[0] for i in samples]).reshape(-1, 4)\n",
    "    #[b, 1]\n",
    "    action = torch.LongTensor([i[1] for i in samples]).reshape(-1, 1)\n",
    "    #[b, 1]\n",
    "    reward = torch.FloatTensor([i[2] for i in samples]).reshape(-1, 1)\n",
    "    #[b, 4]\n",
    "    next_state = torch.FloatTensor([i[3] for i in samples]).reshape(-1, 4)\n",
    "    #[b, 1]\n",
    "    over = torch.LongTensor([i[4] for i in samples]).reshape(-1, 1)\n",
    "\n",
    "    return state, action, reward, next_state, over\n",
    "\n",
    "\n",
    "state, action, reward, next_state, over = get_sample()\n",
    "\n",
    "state, action, reward, next_state, over"
   ]
  },
  {
   "cell_type": "code",
   "execution_count": 19,
   "metadata": {
    "pycharm": {
     "name": "#%%\n"
    },
    "scrolled": true
   },
   "outputs": [
    {
     "name": "stdout",
     "output_type": "stream",
     "text": [
      "value.shape: torch.Size([64, 2])\n",
      "tensor([[-0.1364,  0.0666],\n",
      "        [-0.1454,  0.0709],\n",
      "        [-0.1381,  0.0866],\n",
      "        [-0.0760, -0.1059],\n",
      "        [-0.1408,  0.0787],\n",
      "        [-0.1322,  0.0540],\n",
      "        [-0.0656, -0.0653],\n",
      "        [-0.0815,  0.0044],\n",
      "        [-0.1138,  0.0195],\n",
      "        [-0.0686, -0.0441],\n",
      "        [-0.0627, -0.0949],\n",
      "        [-0.1427,  0.0652],\n",
      "        [-0.0558, -0.0499],\n",
      "        [-0.1433,  0.0823],\n",
      "        [-0.1497,  0.0868],\n",
      "        [-0.1351,  0.0467],\n",
      "        [-0.0677, -0.0558],\n",
      "        [-0.1526,  0.0738],\n",
      "        [-0.0840,  0.0058],\n",
      "        [-0.0673, -0.0670],\n",
      "        [-0.0831, -0.0322],\n",
      "        [-0.0743, -0.0320],\n",
      "        [-0.0722, -0.0233],\n",
      "        [-0.1497,  0.0793],\n",
      "        [-0.1079,  0.0305],\n",
      "        [-0.0683, -0.0692],\n",
      "        [-0.1448,  0.0824],\n",
      "        [-0.1439,  0.0863],\n",
      "        [-0.0800, -0.0598],\n",
      "        [-0.1486,  0.0768],\n",
      "        [-0.0649, -0.0462],\n",
      "        [-0.1193,  0.0218],\n",
      "        [-0.1416,  0.0865],\n",
      "        [-0.1206,  0.0267],\n",
      "        [-0.0630, -0.0811],\n",
      "        [-0.1296,  0.0587],\n",
      "        [-0.0520, -0.0477],\n",
      "        [-0.1466,  0.0802],\n",
      "        [-0.1174,  0.0261],\n",
      "        [-0.1482,  0.0887],\n",
      "        [-0.0756, -0.0268],\n",
      "        [-0.1430,  0.0826],\n",
      "        [-0.0836, -0.0012],\n",
      "        [-0.1475,  0.0760],\n",
      "        [-0.0956, -0.0028],\n",
      "        [-0.1436,  0.0869],\n",
      "        [-0.0690, -0.0466],\n",
      "        [-0.1106,  0.0272],\n",
      "        [-0.0864,  0.0064],\n",
      "        [-0.0636, -0.0735],\n",
      "        [-0.1397,  0.0608],\n",
      "        [-0.1054,  0.0225],\n",
      "        [-0.0798, -0.0362],\n",
      "        [-0.1156,  0.0193],\n",
      "        [-0.0633, -0.0538],\n",
      "        [-0.1507,  0.0736],\n",
      "        [-0.0904,  0.0024],\n",
      "        [-0.1257,  0.0546],\n",
      "        [-0.1033,  0.0236],\n",
      "        [-0.0611, -0.0921],\n",
      "        [-0.0827, -0.0013],\n",
      "        [-0.0629, -0.0558],\n",
      "        [-0.1432,  0.0645],\n",
      "        [-0.0777, -0.0270]], grad_fn=<AddmmBackward0>)\n"
     ]
    },
    {
     "data": {
      "text/plain": [
       "torch.Size([64, 1])"
      ]
     },
     "execution_count": 19,
     "metadata": {},
     "output_type": "execute_result"
    }
   ],
   "source": [
    "def get_value(state, action):\n",
    "    #使用状态计算出动作的logits\n",
    "    #[b, 4] -> [b, 2]\n",
    "    value = model(state)\n",
    "\n",
    "    #根据实际使用的action取出每一个值\n",
    "    #这个值就是模型评估的在该状态下,执行动作的分数\n",
    "    #在执行动作前,显然并不知道会得到的反馈和next_state\n",
    "    #所以这里不能也不需要考虑next_state和reward\n",
    "    #[b, 2] -> [b, 1]\n",
    "    value = value.gather(dim=1, index=action)\n",
    "\n",
    "    return value\n",
    "\n",
    "\n",
    "get_value(state, action).shape"
   ]
  },
  {
   "cell_type": "code",
   "execution_count": 8,
   "metadata": {
    "pycharm": {
     "name": "#%%\n"
    },
    "scrolled": true
   },
   "outputs": [
    {
     "data": {
      "text/plain": [
       "torch.Size([64, 1])"
      ]
     },
     "execution_count": 8,
     "metadata": {},
     "output_type": "execute_result"
    }
   ],
   "source": [
    "def get_target(reward, next_state, over):\n",
    "    #上面已经把模型认为的状态下执行动作的分数给评估出来了\n",
    "    #下面使用next_state和reward计算真实的分数\n",
    "    #针对一个状态,它到底应该多少分,可以使用以往模型积累的经验评估\n",
    "    #这也是没办法的办法,因为显然没有精确解,这里使用延迟更新的next_model评估\n",
    "\n",
    "    #使用next_state计算下一个状态的分数\n",
    "    #[b, 4] -> [b, 2]\n",
    "    with torch.no_grad():\n",
    "        target = next_model(next_state)\n",
    "\n",
    "    #取所有动作中分数最大的\n",
    "    #[b, 2] -> [b, 1]\n",
    "    target = target.max(dim=1)[0]\n",
    "    target = target.reshape(-1, 1)\n",
    "\n",
    "    #下一个状态的分数乘以一个系数,相当于权重\n",
    "    target *= 0.98\n",
    "\n",
    "    #如果next_state已经游戏结束,则next_state的分数是0\n",
    "    #因为如果下一步已经游戏结束,显然不需要再继续玩下去,也就不需要考虑next_state了.\n",
    "    #[b, 1] * [b, 1] -> [b, 1]\n",
    "    target *= (1 - over)\n",
    "\n",
    "    #加上reward就是最终的分数\n",
    "    #[b, 1] + [b, 1] -> [b, 1]\n",
    "    target += reward\n",
    "\n",
    "    return target\n",
    "\n",
    "\n",
    "get_target(reward, next_state, over).shape"
   ]
  },
  {
   "cell_type": "code",
   "execution_count": 9,
   "metadata": {
    "pycharm": {
     "name": "#%%\n"
    }
   },
   "outputs": [
    {
     "data": {
      "text/plain": [
       "200.0"
      ]
     },
     "execution_count": 9,
     "metadata": {},
     "output_type": "execute_result"
    }
   ],
   "source": [
    "from IPython import display\n",
    "\n",
    "\n",
    "def test(play):\n",
    "    #初始化游戏\n",
    "    state = env.reset()\n",
    "\n",
    "    #记录反馈值的和,这个值越大越好\n",
    "    reward_sum = 0\n",
    "\n",
    "    #玩到游戏结束为止\n",
    "    over = False\n",
    "    while not over:\n",
    "        #根据当前状态得到一个动作\n",
    "        action = get_action(state)\n",
    "\n",
    "        #执行动作,得到反馈\n",
    "        state, reward, over, _ = env.step(action)\n",
    "        reward_sum += reward\n",
    "\n",
    "        #打印动画\n",
    "        if play and random.random() < 0.2:  #跳帧\n",
    "            display.clear_output(wait=True)\n",
    "            show()\n",
    "\n",
    "    return reward_sum\n",
    "\n",
    "\n",
    "test(play=False)"
   ]
  },
  {
   "cell_type": "code",
   "execution_count": 10,
   "metadata": {
    "id": "OHoSU6uI-xIt",
    "pycharm": {
     "name": "#%%\n"
    },
    "scrolled": false
   },
   "outputs": [
    {
     "name": "stdout",
     "output_type": "stream",
     "text": [
      "0 400 200 0 9.4\n",
      "50 10000 200 200 200.0\n",
      "100 10000 200 200 200.0\n",
      "150 10000 200 200 200.0\n",
      "200 10000 384 384 185.9\n",
      "250 10000 375 375 176.9\n",
      "300 10000 200 200 200.0\n",
      "350 10000 200 200 186.05\n",
      "400 10000 200 200 200.0\n",
      "450 10000 200 200 200.0\n"
     ]
    }
   ],
   "source": [
    "def train():\n",
    "    model.train()\n",
    "    optimizer = torch.optim.Adam(model.parameters(), lr=2e-3)\n",
    "    loss_fn = torch.nn.MSELoss()\n",
    "\n",
    "    #训练N次\n",
    "    for epoch in range(500):\n",
    "        #更新N条数据\n",
    "        update_count, drop_count = update_data()\n",
    "\n",
    "        #每次更新过数据后,学习N次\n",
    "        for i in range(200):\n",
    "            #采样一批数据\n",
    "            state, action, reward, next_state, over = get_sample()\n",
    "\n",
    "            #计算一批样本的value和target\n",
    "            value = get_value(state, action)\n",
    "            target = get_target(reward, next_state, over)\n",
    "\n",
    "            #更新参数\n",
    "            loss = loss_fn(value, target)\n",
    "            optimizer.zero_grad()\n",
    "            loss.backward()\n",
    "            optimizer.step()\n",
    "\n",
    "            #把model的参数复制给next_model\n",
    "            if (i + 1) % 10 == 0:\n",
    "                next_model.load_state_dict(model.state_dict())\n",
    "\n",
    "        if epoch % 50 == 0:\n",
    "            test_result = sum([test(play=False) for _ in range(20)]) / 20\n",
    "            print(epoch, len(datas), update_count, drop_count, test_result)\n",
    "\n",
    "\n",
    "train()"
   ]
  },
  {
   "cell_type": "code",
   "execution_count": 18,
   "metadata": {
    "pycharm": {
     "name": "#%%\n"
    }
   },
   "outputs": [
    {
     "data": {
      "image/png": "[encoded data removed]",
      "text/plain": [
       "<Figure size 432x288 with 1 Axes>"
      ]
     },
     "metadata": {
      "needs_background": "light"
     },
     "output_type": "display_data"
    },
    {
     "data": {
      "text/plain": [
       "200.0"
      ]
     },
     "execution_count": 18,
     "metadata": {},
     "output_type": "execute_result"
    }
   ],
   "source": [
    "test(play=True)"
   ]
  }
 ],
 "metadata": {
  "colab": {
   "collapsed_sections": [],
   "name": "第7章-DQN算法.ipynb",
   "provenance": []
  },
  "kernelspec": {
   "display_name": "Python 3 (ipykernel)",
   "language": "python",
   "name": "python3"
  },
  "language_info": {
   "codemirror_mode": {
    "name": "ipython",
    "version": 3
   },
   "file_extension": ".py",
   "mimetype": "text/x-python",
   "name": "python",
   "nbconvert_exporter": "python",
   "pygments_lexer": "ipython3",
   "version": "3.7.13"
  }
 },
 "nbformat": 4,
 "nbformat_minor": 1
}
